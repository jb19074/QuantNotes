{
 "cells": [
  {
   "attachments": {},
   "cell_type": "markdown",
   "metadata": {},
   "source": [
    "# p-Hacking and Multiple Comparisons Bias\n",
    "---\n",
    "\n",
    "Multiple comparisons bias is a pervasive problem in statistics, data science, and in general forecasting/predictions. The short explanation is that the more tests you run, the more likely you are to get an outcome that you want/expect. If you ignore the multitude of tests that failed, you are clearly setting yourself up for failure by misinterpreting what's going on in your data.\n",
    "\n",
    "A particularly common example of this is when looking for relationships in large data sets comprising of many indepedent series or variables. In this case you run a test each time you evaluate whether a relationship exists between a set of variables.\n",
    "\n",
    "\n",
    "## Statistics Merely Illuminates This Issue\n",
    "\n",
    "Most also fall prey to multiple comparisons bias in real life. Any time you make a decision you are effectively taking an action based on an hypothesis. That hypothesis is often tested. You can end up unknowingly making many tests in your daily life.\n",
    "\n",
    "An example might be deciding which medicine is helping cure a cold you have. Many people will take multiple medicines at once to try and get rid of symptoms. You may think that a certain medicine worked, when in reality none did and the cold just happened to start getting better at some point.\n",
    "\n",
    "The point here is that this problem doesn't stem from statistical testing and p-values. Rather, these techniques give us much more information about the problem and when it might be occuring."
   ]
  },
  {
   "cell_type": "code",
   "execution_count": 1,
   "metadata": {
    "collapsed": true
   },
   "outputs": [],
   "source": [
    "import numpy as np\n",
    "import pandas as pd\n",
    "import scipy.stats as stats\n",
    "import matplotlib.pyplot as plt"
   ]
  },
  {
   "attachments": {},
   "cell_type": "markdown",
   "metadata": {},
   "source": [
    "### Refresher: Spearman Rank Correlation\n",
    "\n",
    "It's a variation of correlation that takes into account the ranks of the data. This can help with weird distributions or outliers that would confuse other measures. The test also returns a p-value, which is key here."
   ]
  },
  {
   "cell_type": "markdown",
   "metadata": {},
   "source": [
    "A higher coefficient means a stronger estimated relationship."
   ]
  },
  {
   "cell_type": "code",
   "execution_count": 2,
   "metadata": {
    "collapsed": false
   },
   "outputs": [
    {
     "name": "stdout",
     "output_type": "stream",
     "text": [
      "Spearman Rank Coefficient:  1.0\n",
      "p-value:  0.0\n"
     ]
    }
   ],
   "source": [
    "X = pd.Series(np.random.normal(0, 1, 100))\n",
    "Y = X\n",
    "\n",
    "r_s = stats.spearmanr(Y, X)\n",
    "print 'Spearman Rank Coefficient: ', r_s[0]\n",
    "print 'p-value: ', r_s[1]"
   ]
  },
  {
   "cell_type": "markdown",
   "metadata": {},
   "source": [
    "If we add some noise our coefficient will drop."
   ]
  },
  {
   "cell_type": "code",
   "execution_count": 3,
   "metadata": {
    "collapsed": false
   },
   "outputs": [
    {
     "name": "stdout",
     "output_type": "stream",
     "text": [
      "Spearman Rank Coefficient:  0.701278127813\n",
      "p-value:  4.47737717228e-16\n"
     ]
    }
   ],
   "source": [
    "X = pd.Series(np.random.normal(0, 1, 100))\n",
    "Y = X + np.random.normal(0, 1, 100)\n",
    "\n",
    "r_s = stats.spearmanr(Y, X)\n",
    "print 'Spearman Rank Coefficient: ', r_s[0]\n",
    "print 'p-value: ', r_s[1]"
   ]
  },
  {
   "attachments": {},
   "cell_type": "markdown",
   "metadata": {},
   "source": [
    "### p-value Refresher\n",
    "\n",
    " What's important to remember is they're used to test a hypothesis given some data. Here we are testing the hypothesis that a relationship exists between two series given the series values.\n",
    "\n",
    "####IMPORTANT: p-values must be treated as binary.\n",
    "\n",
    "A common mistake is that p-values are treated as more or less significant. This is bad practice as it allows for what's known as [p-hacking](https://en.wikipedia.org/wiki/Data_dredging) and will result in more false positives than you expect. Effectively, you will be too likely to convince yourself that relationships exist in your data.\n",
    "\n",
    "To treat p-values as binary, a cutoff must be set in advance. Then the p-value must be compared with the cutoff and treated as significant/not signficant. Here we'll show this.\n",
    "\n",
    "### The Cutoff is our Significance Level\n",
    "\n",
    "We can refer to the cutoff as our significance level because a lower cutoff means that results which pass it are significant at a higher level of confidence. So if you have a cutoff of 0.05, then even on random data 5% of tests will pass based on chance. A cutoff of 0.01 reduces this to 1%, which is a more stringent test. We can therefore have more confidence in our results."
   ]
  },
  {
   "cell_type": "code",
   "execution_count": 4,
   "metadata": {
    "collapsed": false
   },
   "outputs": [
    {
     "name": "stdout",
     "output_type": "stream",
     "text": [
      "Spearman Rank Coefficient:  0.712859285929\n",
      "There is significant evidence of a relationship.\n"
     ]
    }
   ],
   "source": [
    "# Setting a cutoff of 5% means that there is a 5% chance\n",
    "# of us getting a significant p-value given no relationship\n",
    "# in our data (false positive).\n",
    "# NOTE: This is only true if the test's assumptions have been\n",
    "# satisfied and the test is therefore properly calibrated.\n",
    "# All tests have different assumptions.\n",
    "cutoff = 0.05\n",
    "\n",
    "X = pd.Series(np.random.normal(0, 1, 100))\n",
    "Y = X + np.random.normal(0, 1, 100)\n",
    "\n",
    "r_s = stats.spearmanr(Y, X)\n",
    "print 'Spearman Rank Coefficient: ', r_s[0]\n",
    "if r_s[1] < cutoff:\n",
    "    print 'There is significant evidence of a relationship.'\n",
    "else:\n",
    "    print 'There is not significant evidence of a relationship.'"
   ]
  },
  {
   "cell_type": "markdown",
   "metadata": {},
   "source": [
    "## Experiment - Running Many Tests\n",
    "\n",
    "We'll start by defining a data frame."
   ]
  },
  {
   "cell_type": "code",
   "execution_count": 5,
   "metadata": {
    "collapsed": true
   },
   "outputs": [],
   "source": [
    "df = pd.DataFrame()"
   ]
  },
  {
   "cell_type": "markdown",
   "metadata": {},
   "source": [
    "Now we'll populate it by adding `N` randomly generated timeseries of length `T`."
   ]
  },
  {
   "cell_type": "code",
   "execution_count": 6,
   "metadata": {
    "collapsed": false
   },
   "outputs": [],
   "source": [
    "N = 20\n",
    "T = 100\n",
    "\n",
    "for i in range(N):\n",
    "    X = np.random.normal(0, 1, T)\n",
    "    X = pd.Series(X)\n",
    "    name = 'X%s' % i\n",
    "    df[name] = X"
   ]
  },
  {
   "cell_type": "code",
   "execution_count": 7,
   "metadata": {
    "collapsed": false
   },
   "outputs": [
    {
     "data": {
      "text/html": [
       "<div>\n",
       "<table border=\"1\" class=\"dataframe\">\n",
       "  <thead>\n",
       "    <tr style=\"text-align: right;\">\n",
       "      <th></th>\n",
       "      <th>X0</th>\n",
       "      <th>X1</th>\n",
       "      <th>X2</th>\n",
       "      <th>X3</th>\n",
       "      <th>X4</th>\n",
       "      <th>X5</th>\n",
       "      <th>X6</th>\n",
       "      <th>X7</th>\n",
       "      <th>X8</th>\n",
       "      <th>X9</th>\n",
       "      <th>X10</th>\n",
       "      <th>X11</th>\n",
       "      <th>X12</th>\n",
       "      <th>X13</th>\n",
       "      <th>X14</th>\n",
       "      <th>X15</th>\n",
       "      <th>X16</th>\n",
       "      <th>X17</th>\n",
       "      <th>X18</th>\n",
       "      <th>X19</th>\n",
       "    </tr>\n",
       "  </thead>\n",
       "  <tbody>\n",
       "    <tr>\n",
       "      <th>0</th>\n",
       "      <td>0.003398</td>\n",
       "      <td>-0.144477</td>\n",
       "      <td>-0.264571</td>\n",
       "      <td>-0.446171</td>\n",
       "      <td>-1.796904</td>\n",
       "      <td>-0.337402</td>\n",
       "      <td>-0.932036</td>\n",
       "      <td>0.197074</td>\n",
       "      <td>-0.602790</td>\n",
       "      <td>-1.566984</td>\n",
       "      <td>0.481944</td>\n",
       "      <td>-0.388371</td>\n",
       "      <td>-0.271313</td>\n",
       "      <td>0.369861</td>\n",
       "      <td>-1.349012</td>\n",
       "      <td>-0.461832</td>\n",
       "      <td>-0.082507</td>\n",
       "      <td>0.131566</td>\n",
       "      <td>0.747419</td>\n",
       "      <td>0.300860</td>\n",
       "    </tr>\n",
       "    <tr>\n",
       "      <th>1</th>\n",
       "      <td>0.065948</td>\n",
       "      <td>-0.578287</td>\n",
       "      <td>-0.406458</td>\n",
       "      <td>0.749940</td>\n",
       "      <td>1.555616</td>\n",
       "      <td>-1.473557</td>\n",
       "      <td>1.197403</td>\n",
       "      <td>0.546267</td>\n",
       "      <td>0.428453</td>\n",
       "      <td>-0.540101</td>\n",
       "      <td>-0.458922</td>\n",
       "      <td>0.509046</td>\n",
       "      <td>-1.947394</td>\n",
       "      <td>-0.245362</td>\n",
       "      <td>-0.004364</td>\n",
       "      <td>-0.147721</td>\n",
       "      <td>-0.080884</td>\n",
       "      <td>-1.428521</td>\n",
       "      <td>-0.058653</td>\n",
       "      <td>0.691348</td>\n",
       "    </tr>\n",
       "    <tr>\n",
       "      <th>2</th>\n",
       "      <td>-1.313196</td>\n",
       "      <td>0.410431</td>\n",
       "      <td>0.175016</td>\n",
       "      <td>-0.016276</td>\n",
       "      <td>-1.313580</td>\n",
       "      <td>0.811902</td>\n",
       "      <td>-0.288606</td>\n",
       "      <td>1.148393</td>\n",
       "      <td>-0.539966</td>\n",
       "      <td>-0.784766</td>\n",
       "      <td>0.997860</td>\n",
       "      <td>0.077192</td>\n",
       "      <td>0.003534</td>\n",
       "      <td>0.596858</td>\n",
       "      <td>-0.134513</td>\n",
       "      <td>0.731397</td>\n",
       "      <td>-1.191697</td>\n",
       "      <td>0.555361</td>\n",
       "      <td>-1.580280</td>\n",
       "      <td>1.454631</td>\n",
       "    </tr>\n",
       "    <tr>\n",
       "      <th>3</th>\n",
       "      <td>0.701392</td>\n",
       "      <td>-1.300107</td>\n",
       "      <td>1.637737</td>\n",
       "      <td>0.480279</td>\n",
       "      <td>-1.638725</td>\n",
       "      <td>-1.383335</td>\n",
       "      <td>-1.131033</td>\n",
       "      <td>0.324741</td>\n",
       "      <td>-1.338035</td>\n",
       "      <td>0.088153</td>\n",
       "      <td>-1.962547</td>\n",
       "      <td>0.297710</td>\n",
       "      <td>0.221197</td>\n",
       "      <td>-0.826667</td>\n",
       "      <td>-0.193141</td>\n",
       "      <td>-0.889288</td>\n",
       "      <td>0.529142</td>\n",
       "      <td>-0.799146</td>\n",
       "      <td>0.213504</td>\n",
       "      <td>-0.782524</td>\n",
       "    </tr>\n",
       "    <tr>\n",
       "      <th>4</th>\n",
       "      <td>-0.746462</td>\n",
       "      <td>1.834684</td>\n",
       "      <td>-0.053429</td>\n",
       "      <td>-0.327324</td>\n",
       "      <td>1.129058</td>\n",
       "      <td>-0.442510</td>\n",
       "      <td>0.886439</td>\n",
       "      <td>-1.170066</td>\n",
       "      <td>0.572916</td>\n",
       "      <td>-0.064708</td>\n",
       "      <td>0.347081</td>\n",
       "      <td>-0.117600</td>\n",
       "      <td>0.247260</td>\n",
       "      <td>1.131062</td>\n",
       "      <td>1.184124</td>\n",
       "      <td>0.011468</td>\n",
       "      <td>0.380755</td>\n",
       "      <td>0.908365</td>\n",
       "      <td>0.203786</td>\n",
       "      <td>1.063872</td>\n",
       "    </tr>\n",
       "  </tbody>\n",
       "</table>\n",
       "</div>"
      ],
      "text/plain": [
       "         X0        X1        X2        X3        X4        X5        X6  \\\n",
       "0  0.003398 -0.144477 -0.264571 -0.446171 -1.796904 -0.337402 -0.932036   \n",
       "1  0.065948 -0.578287 -0.406458  0.749940  1.555616 -1.473557  1.197403   \n",
       "2 -1.313196  0.410431  0.175016 -0.016276 -1.313580  0.811902 -0.288606   \n",
       "3  0.701392 -1.300107  1.637737  0.480279 -1.638725 -1.383335 -1.131033   \n",
       "4 -0.746462  1.834684 -0.053429 -0.327324  1.129058 -0.442510  0.886439   \n",
       "\n",
       "         X7        X8        X9       X10       X11       X12       X13  \\\n",
       "0  0.197074 -0.602790 -1.566984  0.481944 -0.388371 -0.271313  0.369861   \n",
       "1  0.546267  0.428453 -0.540101 -0.458922  0.509046 -1.947394 -0.245362   \n",
       "2  1.148393 -0.539966 -0.784766  0.997860  0.077192  0.003534  0.596858   \n",
       "3  0.324741 -1.338035  0.088153 -1.962547  0.297710  0.221197 -0.826667   \n",
       "4 -1.170066  0.572916 -0.064708  0.347081 -0.117600  0.247260  1.131062   \n",
       "\n",
       "        X14       X15       X16       X17       X18       X19  \n",
       "0 -1.349012 -0.461832 -0.082507  0.131566  0.747419  0.300860  \n",
       "1 -0.004364 -0.147721 -0.080884 -1.428521 -0.058653  0.691348  \n",
       "2 -0.134513  0.731397 -1.191697  0.555361 -1.580280  1.454631  \n",
       "3 -0.193141 -0.889288  0.529142 -0.799146  0.213504 -0.782524  \n",
       "4  1.184124  0.011468  0.380755  0.908365  0.203786  1.063872  "
      ]
     },
     "execution_count": 7,
     "metadata": {},
     "output_type": "execute_result"
    }
   ],
   "source": [
    "df.head()"
   ]
  },
  {
   "cell_type": "markdown",
   "metadata": {},
   "source": [
    "Now we'll run a test on all pairs within our data looking for instances where our p-value is below our defined cutoff of 5%."
   ]
  },
  {
   "cell_type": "code",
   "execution_count": 8,
   "metadata": {
    "collapsed": false
   },
   "outputs": [],
   "source": [
    "cutoff = 0.05\n",
    "\n",
    "significant_pairs = []\n",
    "\n",
    "for i in range(N):\n",
    "    for j in range(i+1, N):\n",
    "        Xi = df.iloc[:, i]\n",
    "        Xj = df.iloc[:, j]\n",
    "        \n",
    "        results = stats.spearmanr(Xi, Xj)\n",
    "        \n",
    "        pvalue = results[1]\n",
    "        \n",
    "        if pvalue < cutoff:\n",
    "            significant_pairs.append((i, j))"
   ]
  },
  {
   "cell_type": "markdown",
   "metadata": {},
   "source": [
    "Before we check how many significant results we got, let's run out some math to check how many we'd expect. The formula for the number of pairs given N series is\n",
    "\n",
    "$$\\frac{N(N-1)}{2}$$\n",
    "\n",
    "There are no relationships in our data as it's all randomly generated. If our test is properly calibrated we should expect a false positive rate of 5% given our 5% cutoff. Therefore we should expect the following number of pairs that achieved significance based on pure random chance."
   ]
  },
  {
   "cell_type": "code",
   "execution_count": 9,
   "metadata": {
    "collapsed": false
   },
   "outputs": [
    {
     "data": {
      "text/plain": [
       "9.5"
      ]
     },
     "execution_count": 9,
     "metadata": {},
     "output_type": "execute_result"
    }
   ],
   "source": [
    "(N * (N-1) / 2) * 0.05"
   ]
  },
  {
   "cell_type": "markdown",
   "metadata": {},
   "source": [
    "Now let's compare to how many we actually found."
   ]
  },
  {
   "cell_type": "code",
   "execution_count": 10,
   "metadata": {
    "collapsed": false
   },
   "outputs": [
    {
     "data": {
      "text/plain": [
       "7"
      ]
     },
     "execution_count": 10,
     "metadata": {},
     "output_type": "execute_result"
    }
   ],
   "source": [
    "len(significant_pairs)"
   ]
  },
  {
   "cell_type": "markdown",
   "metadata": {},
   "source": [
    "We shouldn't expect the numbers to match too closely here on a consistent basis as we've only run one experiment. If we run many of these experiments we should see a convergence to what we'd expect."
   ]
  },
  {
   "cell_type": "markdown",
   "metadata": {},
   "source": [
    "### Repeating the Experiment\n",
    "\n"
   ]
  },
  {
   "cell_type": "code",
   "execution_count": 11,
   "metadata": {
    "collapsed": false
   },
   "outputs": [],
   "source": [
    "def do_experiment(N, T, cutoff=0.05):\n",
    "    df = pd.DataFrame()\n",
    "\n",
    "    # Make random data\n",
    "    for i in range(N):\n",
    "        X = np.random.normal(0, 1, T)\n",
    "        X = pd.Series(X)\n",
    "        name = 'X%s' % i\n",
    "        df[name] = X\n",
    "\n",
    "    significant_pairs = []\n",
    "\n",
    "    # Look for relationships\n",
    "    for i in range(N):\n",
    "        for j in range(i+1, N):\n",
    "            Xi = df.iloc[:, i]\n",
    "            Xj = df.iloc[:, j]\n",
    "\n",
    "            results = stats.spearmanr(Xi, Xj)\n",
    "\n",
    "            pvalue = results[1]\n",
    "\n",
    "            if pvalue < cutoff:\n",
    "                significant_pairs.append((i, j))\n",
    "    \n",
    "    return significant_pairs\n",
    "\n",
    "\n",
    "num_experiments = 100\n",
    "\n",
    "results = np.zeros((num_experiments,))\n",
    "\n",
    "for i in range(num_experiments):\n",
    "    # Run a single experiment\n",
    "    result = do_experiment(20, 100, cutoff=0.05)\n",
    "    \n",
    "    # Count how many pairs\n",
    "    n = len(result)\n",
    "    \n",
    "    # Add to array\n",
    "    results[i] = n"
   ]
  },
  {
   "cell_type": "markdown",
   "metadata": {},
   "source": [
    "The average over many experiments should be closer."
   ]
  },
  {
   "cell_type": "code",
   "execution_count": 12,
   "metadata": {
    "collapsed": false
   },
   "outputs": [
    {
     "data": {
      "text/plain": [
       "9.8900000000000006"
      ]
     },
     "execution_count": 12,
     "metadata": {},
     "output_type": "execute_result"
    }
   ],
   "source": [
    "np.mean(results)"
   ]
  },
  {
   "cell_type": "markdown",
   "metadata": {},
   "source": [
    "## Visualizing What's Going On\n",
    "\n",
    "What's happening here is that p-values should be uniformly distributed, given no signal in the underlying data. Basically, they carry no information whatsoever and will be equally likely to be 0.01 as 0.99. Because they're popping out randomly, you will expect a certain percentage of p-values to be underneath any threshold you choose. The lower the threshold the fewer will pass your test.\n",
    "\n",
    "Let's visualize this by making a modified function that returns p-values."
   ]
  },
  {
   "cell_type": "code",
   "execution_count": 13,
   "metadata": {
    "collapsed": false
   },
   "outputs": [],
   "source": [
    "def get_pvalues_from_experiment(N, T):\n",
    "    df = pd.DataFrame()\n",
    "\n",
    "    # Make random data\n",
    "    for i in range(N):\n",
    "        X = np.random.normal(0, 1, T)\n",
    "        X = pd.Series(X)\n",
    "        name = 'X%s' % i\n",
    "        df[name] = X\n",
    "\n",
    "    pvalues = []\n",
    "\n",
    "    # Look for relationships\n",
    "    for i in range(N):\n",
    "        for j in range(i+1, N):\n",
    "            Xi = df.iloc[:, i]\n",
    "            Xj = df.iloc[:, j]\n",
    "\n",
    "            results = stats.spearmanr(Xi, Xj)\n",
    "\n",
    "            pvalue = results[1]\n",
    "\n",
    "            pvalues.append(pvalue)\n",
    "    \n",
    "    return pvalues\n"
   ]
  },
  {
   "cell_type": "markdown",
   "metadata": {},
   "source": [
    "We'll now collect a bunch of pvalues. As in any case we'll want to collect quite a number of p-values to start getting a sense of how the underlying distribution looks. If we only collect few, it will be noisy like this:"
   ]
  },
  {
   "cell_type": "code",
   "execution_count": 14,
   "metadata": {
    "collapsed": false
   },
   "outputs": [
    {
     "data": {
      "image/png": "[encoded data removed]",
      "text/plain": [
       "<matplotlib.figure.Figure at 0x7fc1b10a2ed0>"
      ]
     },
     "metadata": {},
     "output_type": "display_data"
    }
   ],
   "source": [
    "pvalues = get_pvalues_from_experiment(10, 100)\n",
    "plt.hist(pvalues)\n",
    "plt.ylabel('Frequency')\n",
    "plt.title('Observed p-value');"
   ]
  },
  {
   "cell_type": "markdown",
   "metadata": {},
   "source": [
    "Let's dial up our `N` parameter to get a better sense. Keep in mind that the number of p-values will increase at a rate of\n",
    "\n",
    "$$\\frac{N (N-1)}{2}$$\n",
    "\n",
    "or approximately quadratically. Therefore we don't need to increase `N` by much."
   ]
  },
  {
   "cell_type": "code",
   "execution_count": 15,
   "metadata": {
    "collapsed": false,
    "scrolled": false
   },
   "outputs": [
    {
     "data": {
      "image/png": "[encoded data removed]",
      "text/plain": [
       "<matplotlib.figure.Figure at 0x7fc1aa5b8cd0>"
      ]
     },
     "metadata": {},
     "output_type": "display_data"
    }
   ],
   "source": [
    "pvalues = get_pvalues_from_experiment(50, 100)\n",
    "plt.hist(pvalues)\n",
    "plt.ylabel('Frequency')\n",
    "plt.title('Observed p-value');"
   ]
  },
  {
   "cell_type": "markdown",
   "metadata": {},
   "source": [
    "Starting to look pretty flat, as we expected. Lastly, just to visualize the process of drawing a cutoff, we'll draw two artificial lines."
   ]
  },
  {
   "cell_type": "code",
   "execution_count": 16,
   "metadata": {
    "collapsed": false
   },
   "outputs": [
    {
     "data": {
      "image/png": "[encoded data removed]",
      "text/plain": [
       "<matplotlib.figure.Figure at 0x7fc1a8452290>"
      ]
     },
     "metadata": {},
     "output_type": "display_data"
    }
   ],
   "source": [
    "pvalues = get_pvalues_from_experiment(50, 100)\n",
    "plt.vlines(0.01, 0, 150, colors='r', linestyle='--', label='0.01 Cutoff')\n",
    "plt.vlines(0.05, 0, 150, colors='r', label='0.05 Cutoff')\n",
    "plt.hist(pvalues, label='P-Value Distribution')\n",
    "plt.legend()\n",
    "plt.ylabel('Frequency')\n",
    "plt.title('Observed p-value');"
   ]
  },
  {
   "cell_type": "markdown",
   "metadata": {},
   "source": [
    "We can see that with a lower cutoff we should expect to get fewer false positives. Let's check that with our above experiment."
   ]
  },
  {
   "cell_type": "code",
   "execution_count": 17,
   "metadata": {
    "collapsed": true
   },
   "outputs": [],
   "source": [
    "num_experiments = 100\n",
    "\n",
    "results = np.zeros((num_experiments,))\n",
    "\n",
    "for i in range(num_experiments):\n",
    "    # Run a single experiment\n",
    "    result = do_experiment(20, 100, cutoff=0.01)\n",
    "    \n",
    "    # Count how many pairs\n",
    "    n = len(result)\n",
    "    \n",
    "    # Add to array\n",
    "    results[i] = n"
   ]
  },
  {
   "cell_type": "code",
   "execution_count": 18,
   "metadata": {
    "collapsed": false
   },
   "outputs": [
    {
     "data": {
      "text/plain": [
       "2.1699999999999999"
      ]
     },
     "execution_count": 18,
     "metadata": {},
     "output_type": "execute_result"
    }
   ],
   "source": [
    "np.mean(results)"
   ]
  },
  {
   "cell_type": "markdown",
   "metadata": {},
   "source": [
    "And finally compare it to what we expected."
   ]
  },
  {
   "cell_type": "code",
   "execution_count": 19,
   "metadata": {
    "collapsed": false
   },
   "outputs": [
    {
     "data": {
      "text/plain": [
       "1.9000000000000001"
      ]
     },
     "execution_count": 19,
     "metadata": {},
     "output_type": "execute_result"
    }
   ],
   "source": [
    "(N * (N-1) / 2) * 0.01"
   ]
  },
  {
   "attachments": {},
   "cell_type": "markdown",
   "metadata": {},
   "source": [
    "## Sensitivity / Specificity Tradeoff\n",
    "\n",
    "As with any adjustment of p-value cutoff, we have a tradeoff. A lower cutoff decreases the rate of false positives, but also decreases the chance we find a real relationship (true positive). So you can't just decrease your cutoff to solve this problem.\n",
    "\n",
    "https://en.wikipedia.org/wiki/Sensitivity_and_specificity\n",
    "\n",
    "## Reducing Multiple Comparisons Bias\n",
    "\n",
    "You can't really eliminate multiple comparisons bias, but you can reduce how much it impacts you. To do so we have two options.\n",
    "\n",
    "### Option 1: Run fewer tests.\n",
    "\n",
    "This is often the best option. Rather than just sweeping around hoping you hit an interesting signal, use your expert knowledge of the system to develop a great hypothesis and test that. This process of exploring the data, coming up with a hypothesis, then gathering more data and testing the hypothesis on the new data is considered the gold standard in statistical and scientific research. It's crucial that the data set on which you develop your hypothesis is not the one on which you test it. Because you found the effect while exploring, the test will likely pass and not really tell you anything. What you want to know is how consistent the effect is. Moving to new data and testing there will not only mean you only run one test, but will be an 'unbiased estimator' of whether your hypothesis is true.\n",
    "\n",
    "### Option 2: Adjustment Factors and Bon Ferroni Correction\n",
    "\n",
    "#### WARNING: This section gets a little technical. Unless you're comfortable with significance levels, we recommend looking at the code examples first and maybe reading the linked articles before fully diving into the text.\n",
    "\n",
    "If you must run many tests, try to correct your p-values. This means applying a correction factor to the cutoff you desire to obtain the one actually used when determining whether p-values are significant. The most conservative and common correction factor is Bon Ferroni."
   ]
  },
  {
   "cell_type": "markdown",
   "metadata": {},
   "source": [
    "### Example: Bon Ferroni Correction\n",
    "\n",
    "The concept behind Bon Ferroni is quite simple. It just says that if we run $m$ tests, and we have a significance level/cutoff of $a$, then we should use $a/m$ as our new cutoff when determining significance. The math works out because of the following.\n",
    "\n",
    "Let's say we run $m$ tests. We should expect to see $ma$ false positives based on random chance that pass out cutoff. If we instead use $a/m$ as our cutoff, then we should expect to see $ma/m = a$ tests that pass our cutoff. Therefore we are back to our desired false positive rate of $a$.\n",
    "\n",
    "Let's try it on our experiment above."
   ]
  },
  {
   "cell_type": "code",
   "execution_count": 20,
   "metadata": {
    "collapsed": true
   },
   "outputs": [],
   "source": [
    "num_experiments = 100\n",
    "\n",
    "results = np.zeros((num_experiments,))\n",
    "\n",
    "N = 20\n",
    "\n",
    "T = 100\n",
    "\n",
    "desired_level = 0.05\n",
    "\n",
    "num_tests = N * (N - 1) / 2\n",
    "\n",
    "new_cutoff = desired_level / num_tests\n",
    "\n",
    "for i in range(num_experiments):\n",
    "    # Run a single experiment\n",
    "    result = do_experiment(20, 100, cutoff=new_cutoff)\n",
    "    \n",
    "    # Count how many pairs\n",
    "    n = len(result)\n",
    "    \n",
    "    # Add to array\n",
    "    results[i] = n"
   ]
  },
  {
   "cell_type": "code",
   "execution_count": 21,
   "metadata": {
    "collapsed": false
   },
   "outputs": [
    {
     "data": {
      "text/plain": [
       "0.080000000000000002"
      ]
     },
     "execution_count": 21,
     "metadata": {},
     "output_type": "execute_result"
    }
   ],
   "source": [
    "np.mean(results)"
   ]
  },
  {
   "cell_type": "markdown",
   "metadata": {},
   "source": [
    "As you can see, our number of significant results is now far lower on average. Which is good because the data was random to begin with."
   ]
  },
  {
   "cell_type": "markdown",
   "metadata": {},
   "source": [
    "### These are Often Overly Conservative\n",
    "\n",
    "Because Bon Ferroni is so stringent, you can often end up passing over real relationships. There is a good example in the following article\n",
    "\n",
    "https://en.wikipedia.org/wiki/Multiple_comparisons_problem\n",
    "\n",
    "Effectively, it assumes that all the tests you are running are independent, and doesn't take into account any structure in your data. You may be able to design a more finely tuned correction factor, but this is adding a layer of complexity and therefore a point of failure to your research. In general any time you relax your stringency, you need to be very careful not to make a mistake.\n",
    "\n",
    "Because of the over-zealousness of Bon Ferroni, often running fewer tests is the better option. Or, if you must run many tests, reserve multiple sets of data so your candidate signals can undergo an out-of-sample round of testing. For example, you might have the following flow:\n",
    "\n",
    " * Let's say there are 100,000 possible relationships.\n",
    " * Run a test on each possible relationship, and pick those that passed the test.\n",
    " * With these candidates, run a test on a new out-of-sample set of data. Because you have many fewer candidates, you can now apply a Bon Ferroni correction to these p-values, or if necessary repeat another round of out-of-sample testing."
   ]
  },
  {
   "cell_type": "markdown",
   "metadata": {},
   "source": [
    "# What is p-Hacking?\n",
    "\n",
    "p-hacking is just intentional or accidental abuse of multiple comparisons bias. It is surprisingly common, even in academic literature. The excellent statistical news website FiveThirtyEight has a great visualization here:\n",
    "\n",
    "https://fivethirtyeight.com/features/science-isnt-broken/\n",
    "\n",
    "Wikipedia's article is also informative:\n",
    "\n",
    "https://en.wikipedia.org/wiki/Data_dredging\n",
    "\n",
    "In general, the concept is simple. By running many tests or experiments and then focusing only on the ones that worked, you can present false positives as real results. Keep in mind that this also applies to running many different models or different types of experiments and on different data sets. Imagine that you spend a summer researching a new model to forecast corn future prices. You try 50 different models until finally one succeeds. Is this just luck at this point? Certainly you would want to be more careful about validating that model and testing it out-of-sample on new data before believing that it works."
   ]
  },
  {
   "cell_type": "markdown",
   "metadata": {},
   "source": [
    "# Final Notes\n",
    "\n",
    "## You can never eliminate, only reduce risk.\n",
    "\n",
    "In general you can never completely eliminate multiple comparisons bias, you can only reduce the risk of false positives using techniques we described above. At the end of the day most ideas tried in research don't work, so you'll end up testing many different hypotheses over time. Just try to be careful and use common sense about whether there is sufficient evidence that a hypothesis is true, or that you just happened to get lucky on this iteration.\n",
    "\n",
    "## Use Out-of-Sample Testing\n",
    "\n",
    "As mentioned above, out-of-sample testing is one of the best ways to reduce your risk. You should always use it, no matter the circumstances. Often one of the ways that false positives make it through your workflow is a lack of an out-of-sample test at the end."
   ]
  }
 ],
 "metadata": {
  "kernelspec": {
   "display_name": "Python 2",
   "language": "python",
   "name": "python2"
  },
  "language_info": {
   "codemirror_mode": {
    "name": "ipython",
    "version": 2
   },
   "file_extension": ".py",
   "mimetype": "text/x-python",
   "name": "python",
   "nbconvert_exporter": "python",
   "pygments_lexer": "ipython2",
   "version": "2.7.12"
  }
 },
 "nbformat": 4,
 "nbformat_minor": 2
}

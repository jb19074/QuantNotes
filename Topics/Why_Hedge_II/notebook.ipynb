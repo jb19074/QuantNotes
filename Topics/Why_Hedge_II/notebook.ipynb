{
 "cells": [
  {
   "attachments": {},
   "cell_type": "markdown",
   "metadata": {},
   "source": [
    "# Why You Should Hedge Beta and Sector Exposures (Part II)\n",
    "---\n"
   ]
  },
  {
   "attachments": {},
   "cell_type": "markdown",
   "metadata": {},
   "source": [
    "In the first notebook, we covered the information coefficient (IC) and effective breadth, providing yet more reasons to make as many independent bets as possible. Here we expand upon the concepts detailed there by decomposing portfolios of varying numbers of securities to further explore the effects of systematic risk."
   ]
  },
  {
   "cell_type": "code",
   "execution_count": 1,
   "metadata": {
    "collapsed": true
   },
   "outputs": [],
   "source": [
    "import numpy as np\n",
    "import matplotlib.pyplot as plt"
   ]
  },
  {
   "attachments": {},
   "cell_type": "markdown",
   "metadata": {},
   "source": [
    "## Hedging Beta and Sector Risk is Good for Allocators\n",
    "\n",
    "Let's work from two basic beliefs:\n",
    "- You would like someone to fund your algorithm\n",
    "- The institution that funds your algorithm is not going to allocate 100% of its money to you. In other words, your algorithm is one in a portfolio of algorithms.\n",
    "\n",
    "The implication of the second belief is subtle. Why should it matter that your high Sharpe algo is part of a portfolio? The key to understanding the importance of this and what it has to do with beta and sector exposure is the following mathematical result:\n",
    "\n",
    "**In a portfolio, stock specific risk can be diversified out while common factor risk cannot.**"
   ]
  },
  {
   "attachments": {},
   "cell_type": "markdown",
   "metadata": {},
   "source": [
    "<div class=\"alert alert-warning\">\n",
    "<b>TL;DR:</b> Beta and sector exposure are **common factors**, i.e., they are among a handful of risk characteristics that are shared among all stocks. Risk exposure to common factors does not diversify away in a portfolio of algos. An allocator will not be able to make a large allocation to you if your algo presents common factor risk. The combination of many algos with modest common factor risk can lead to overwhelming common factor risk at the portfolio level. Allocators do not like this. If you want to get a large capital allocation, you must have low beta and sector exposure consistently over time.\n",
    "</div>\n",
    "\n",
    "# Foundations\n",
    "\n",
    "### Single Stock Risk Decomposition\n",
    "\n",
    "To build intuition, let's posit a single factor model:\n",
    "\n",
    "$$r_i = \\alpha_i + \\beta_i r_m + \\epsilon_i$$\n",
    "\n",
    "where $\\alpha_i$ is the intercept, $\\epsilon_i$ is the error, and $r_m$ is the market return. This is the Capital Asset Pricing Model (CAPM), which posits that the returns to a stock can be attributable to its beta-weighted exposure to the market and a return which is idiosyncratic to that stock. Two important assumptions here are that the $\\epsilon_i$s are uncorrelated to the market and each other across stocks.\n",
    "\n",
    "In this case, the \"risk\", as measured by the variance, for an individual stock is:\n",
    "\n",
    "$$\\sigma_i^2 = \\beta_i^2 \\sigma_m^2 + \\sigma_{\\epsilon_i}^2$$\n",
    "\n",
    "A stocks variance is broken into the **common risk**, $\\beta_i^2\\sigma_m^2$, and **specific risk**, $\\sigma_{\\epsilon_i}$. **Common risk** is risk in the stock driven by market risk which is common among all stocks proportionate to the stock's beta. **Specific risk** is the risk that is unique to that individual stock.\n",
    "\n",
    "Let's look at two examples and decompose the risk into the percent due to common factor risk."
   ]
  },
  {
   "cell_type": "code",
   "execution_count": 2,
   "metadata": {},
   "outputs": [],
   "source": [
    "def stock_risk(beta, market_vol, idio_vol):\n",
    "    common_risk = (beta**2)*(market_vol**2)\n",
    "    specific_risk = idio_vol**2\n",
    "    total_risk = common_risk + specific_risk\n",
    "    return total_risk, common_risk/total_risk"
   ]
  },
  {
   "cell_type": "markdown",
   "metadata": {},
   "source": [
    "We take two separate stocks, each with different market beta exposures and idiosyncratic volatility."
   ]
  },
  {
   "cell_type": "code",
   "execution_count": 3,
   "metadata": {
    "collapsed": true
   },
   "outputs": [],
   "source": [
    "# Betas\n",
    "b1 = 1.2\n",
    "b2 = 1.1\n",
    "# Market volatility\n",
    "market_vol = 0.15\n",
    "# Idiosyncratic volatilities\n",
    "idio_vol_1 = 0.10 \n",
    "idio_vol_2 = 0.07"
   ]
  },
  {
   "cell_type": "code",
   "execution_count": 4,
   "metadata": {},
   "outputs": [
    {
     "name": "stdout",
     "output_type": "stream",
     "text": [
      "Stock 1 risk (annualized standard deviation): 0.2059 \n",
      "Stock 1: percent of total risk due to common risk: 0.7642 \n",
      "\n",
      "Stock 2 risk (annualized standard deviation): 0.1792 \n",
      "Stock 2: percent of total risk due to common risk: 0.8475 \n"
     ]
    }
   ],
   "source": [
    "total_1, pct_common_1 = stock_risk(b1, market_vol, idio_vol_1)\n",
    "total_2, pct_common_2 = stock_risk(b2, market_vol, idio_vol_2)\n",
    "\n",
    "print \"Stock 1 risk (annualized standard deviation): %0.4f \" % np.sqrt(total_1)\n",
    "print \"Stock 1: percent of total risk due to common risk: %0.4f \" % pct_common_1\n",
    "\n",
    "print \"\\nStock 2 risk (annualized standard deviation): %0.4f \" % np.sqrt(total_2)\n",
    "print \"Stock 2: percent of total risk due to common risk: %0.4f \" % pct_common_2"
   ]
  },
  {
   "cell_type": "markdown",
   "metadata": {},
   "source": [
    "This is just looking at the breakdown of the risk associated with each individual stock. We can combine these into a portfolio to see how their combined volatility is affected by common factor risk."
   ]
  },
  {
   "cell_type": "markdown",
   "metadata": {},
   "source": [
    "### Two Stock Portfolio Risk Decomposition\n",
    "\n",
    "Now let's imagine you have a two stock portfolio with percentage weights $w_1$ and $w_2$. The risk of the portfolio (derived below), $\\Pi$, under the one-factor model is then:\n",
    "\n",
    "$$\\sigma_{\\Pi}^2 = \\overbrace{\\sigma_m^2\\left( w_1^2\\beta_1^2 + w_2^2\\beta_2^2 + 2w_1w_2\\beta_1\\beta_1 \\right)}^{\\text{common risk}} + \\overbrace{w_1^2\\epsilon_1^2 + w_2^2 \\epsilon_2^2}^{\\text{specifc risk}}$$\n",
    "\n",
    "This is the simplest possible example of portfolio factor risk, one factor and two assets, yet we can already use it to gain intuition about portfolio risk and hedging."
   ]
  },
  {
   "cell_type": "code",
   "execution_count": 5,
   "metadata": {
    "collapsed": true
   },
   "outputs": [],
   "source": [
    "# The weights for each security in our portfolio\n",
    "w1 = 0.5\n",
    "w2 = 0.5"
   ]
  },
  {
   "cell_type": "code",
   "execution_count": 6,
   "metadata": {
    "collapsed": true
   },
   "outputs": [],
   "source": [
    "def two_stocks_one_factor(w1, w2, b1, b2, market_vol, idio_vol_1, idio_vol_2):\n",
    "    common_risk = (market_vol**2)*(w1*w1*b1*b1 + w2*w2*b2*b2 + 2*w1*w2*b1*b2)\n",
    "    specific_risk =  w1*w1*idio_vol_1**2 + w2*w2*idio_vol_2**2\n",
    "    total_risk = common_risk + specific_risk\n",
    "    return total_risk, common_risk/total_risk"
   ]
  },
  {
   "cell_type": "markdown",
   "metadata": {},
   "source": [
    "The risk for a two stock, equally-weighted, long-only portfolio:"
   ]
  },
  {
   "cell_type": "code",
   "execution_count": 7,
   "metadata": {},
   "outputs": [
    {
     "name": "stdout",
     "output_type": "stream",
     "text": [
      "Portfolio risk (annualized standard deviation): 0.1830 \n",
      "Percent of total risk due to common risk: 0.8887\n"
     ]
    }
   ],
   "source": [
    "total, pct_common = two_stocks_one_factor(w1, w2, b1, b2, market_vol, idio_vol_1, idio_vol_2)\n",
    "print \"Portfolio risk (annualized standard deviation): %0.4f \" % np.sqrt(total)\n",
    "print \"Percent of total risk due to common risk: %0.4f\" % pct_common"
   ]
  },
  {
   "attachments": {},
   "cell_type": "markdown",
   "metadata": {},
   "source": [
    "The astute reader will notice that the proportion of risk in the portfolio due to common factor risk is **larger for the portfolio** than for the weighted sum of the common risk proportion for the two components. To repeat the key point: **In a portfolio, stock specific risk diversifies while common factor risk does not.**"
   ]
  },
  {
   "cell_type": "markdown",
   "metadata": {},
   "source": [
    "The risk for a two stock, beta-hedged long-short portfolio:"
   ]
  },
  {
   "cell_type": "code",
   "execution_count": 8,
   "metadata": {},
   "outputs": [
    {
     "name": "stdout",
     "output_type": "stream",
     "text": [
      "Portfolio risk (annualized standard deviation): 0.0629 \n",
      "Percent of total risk due to common risk: 0.0000\n"
     ]
    }
   ],
   "source": [
    "w2 = -w1*b1/b2    # set weight 2 such that the portfolio has zero beta\n",
    "\n",
    "total, pct_common = two_stocks_one_factor(w1, w2, b1, b2, market_vol, idio_vol_1, idio_vol_2)\n",
    "print \"Portfolio risk (annualized standard deviation): %0.4f \" % np.sqrt(total)\n",
    "print \"Percent of total risk due to common risk: %0.4f\" % pct_common"
   ]
  },
  {
   "cell_type": "markdown",
   "metadata": {},
   "source": [
    "Note that we eliminated **all** the common risk with a perfect beta hedge.\n"
   ]
  },
  {
   "attachments": {},
   "cell_type": "markdown",
   "metadata": {},
   "source": [
    "# Portfolio Risk\n",
    "\n",
    "If $X$ is a column vector of n random variables, $X_1,\\dots,X_n$, and $c$ is a column vector of coefficients (constants), then the [variance of the weighted sum](https://en.wikipedia.org/wiki/Variance) $c'X$ is\n",
    "\n",
    "$$\\text{Var}(c'X) = c'\\Sigma c$$\n",
    "\n",
    "where $\\Sigma$ is the covariance matrix of the $X$'s.\n",
    "\n",
    "In our application, $c$ is our stock weight vector $w$ and $\\Sigma$ is the covariance matrix of stock returns.\n",
    "\n",
    "$$\\sigma_{\\Pi}^2 = w' \\Sigma w$$\n",
    "\n",
    "Just as we decompose the single stock risk above, we can decompose the covariance matrix to separate *common risk* and *specific risk*\n",
    "\n",
    "$$\\Sigma = BFB' + D$$\n",
    "\n",
    "Thus\n",
    "\n",
    "$$\\sigma_{\\Pi}^2  = w'(BFB' + D)w$$\n",
    "$$\\sigma_{\\Pi}^2  = w'BFB'w + w'Dw$$\n",
    "\n",
    "\n",
    "If you work through this matrix multiplication, you get the stated result above\n",
    "\n",
    "$$\\sigma_{\\Pi}^2 = \\overbrace{\\sigma_m^2\\left( w_1^2\\beta_1^2 + w_2^2\\beta_2^2 + 2w_1w_2\\beta_1\\beta_1 \\right)}^{\\text{common risk}} + \\overbrace{w_1^2\\epsilon_1^2 + w_2^2 \\epsilon_2^2}^{\\text{specifc risk}}$$\n",
    "\n",
    "### Multi-Factor Models\n",
    "\n",
    "Of course, we can expand the CAPM to include *additional* risk factors besides market beta. We could posit that there are in total $m$ risks which are *common* to all stocks.\n",
    "\n",
    "$$r_i = \\alpha_i + \\beta_{1,i} f_1 + \\dots + \\beta_{m,i} f_m + \\epsilon_i$$\n",
    "\n",
    "or more concisely\n",
    "\n",
    "$$r_i = \\alpha_i + \\sum_{j=1}^m \\beta_{j,i} f_j + \\epsilon_i$$\n",
    "\n",
    "or, considering all stocks, $i$, from 1 to N, even more concisely, for a given period $t$,\n",
    "\n",
    "$$r = \\alpha + Bf + \\epsilon$$\n",
    "\n",
    "where $r$ is the Nx1 column vector of returns, $B$ is the Nx$m$ matrix of factor betas, $f$ is the mx1 column of factor returns, and $\\epsilon$ is the Nx1 column vector of idiosyncratic returns. Finally,\n",
    "\n",
    "$$\\sigma_{\\Pi}^2  = w'BFB'w + w'Dw$$\n",
    "\n",
    "where $B$ is the Nx$m$ matrix of factor betas, $F$ is the $m$x$m$ covariance matrix of factor returns, and $D$ is a NxN matrix with the variance of $\\epsilon_i$'s on diagonal, and zeros everywhere else.\n",
    "\n",
    "With this result, *assuming we had a suitable risk model giving us the matrices $B$, $F$, and $D$*, we could calculate our portfolio risk and the proportion of risk coming from common risk.\n",
    "\n",
    "Likewise, just as we set $w_2$ above in the two stock case to the value that neutralized the exposure to the single factor $\\beta$, in the multi-factor case we could use the factor betas matrix $B$ to construct a portfolio which is neutral to **all** common factors. **A portfolio which is neutral to all common factors has zero common factor risk.**\n"
   ]
  },
  {
   "attachments": {},
   "cell_type": "markdown",
   "metadata": {},
   "source": [
    "# Portfolios of Algos\n",
    "\n",
    "Even without a risk model, we can get some intuition as to how the risk of a portfolio of algos looks.\n",
    "\n",
    "What does a resulting portfolio of algos look like when the individual algos have non-zero common risk? Taking some inspiration from a recent journal article [The Dangers of Diversification](http://www.iijournals.com/doi/abs/10.3905/jpm.2017.43.2.013?journalCode=jpm) by Garvey, Kahn, and Savi, imagine that each algo has a certain *budget of common risk* it can take. This budget is defined as the percent common risk of total risk in the algo.\n",
    "\n",
    "In the first case, we assume that all algos have this same budget (and use all the budget) and the correlation between their common risks is 1.0. This is simular to the case of a single factor model.\n",
    "\n"
   ]
  },
  {
   "cell_type": "code",
   "execution_count": 9,
   "metadata": {},
   "outputs": [],
   "source": [
    "def portfolio_risk_decomposition(budget=0.2, correl=1.0, algo_count=2, algo_total_risk=0.04):\n",
    "    N = algo_count\n",
    "    \n",
    "    algo_common_risk = budget*(algo_total_risk**2)\n",
    "    algo_idio_risk = algo_total_risk**2 - algo_common_risk\n",
    "\n",
    "    w = 1./N\n",
    "    \n",
    "    covar = correl*algo_common_risk\n",
    "    common_risk = N*w*w*algo_common_risk + (N*N - N)*w*w*covar\n",
    "    idio_risk = algo_idio_risk*w\n",
    "    total_risk = common_risk + idio_risk\n",
    "    \n",
    "    return total_risk, common_risk/total_risk"
   ]
  },
  {
   "cell_type": "code",
   "execution_count": 10,
   "metadata": {},
   "outputs": [
    {
     "name": "stdout",
     "output_type": "stream",
     "text": [
      "Portfolio total risk: 0.0196 \n",
      "Portfolio percent of common risk: 0.8333 \n"
     ]
    }
   ],
   "source": [
    "a, b = portfolio_risk_decomposition(budget=0.2, algo_count=20, correl=1.0, algo_total_risk=0.04)\n",
    "print \"Portfolio total risk: %.4f \" % np.sqrt(a)\n",
    "print \"Portfolio percent of common risk: %.4f \" % b"
   ]
  },
  {
   "cell_type": "code",
   "execution_count": 11,
   "metadata": {},
   "outputs": [
    {
     "data": {
      "image/png": "[encoded data removed]",
      "text/plain": [
       "<matplotlib.figure.Figure at 0x7f3927488ad0>"
      ]
     },
     "metadata": {},
     "output_type": "display_data"
    }
   ],
   "source": [
    "algos = np.linspace(1,20)\n",
    "plt.plot(\n",
    "    algos,\n",
    "    portfolio_risk_decomposition(budget=0.2, correl=1.0, algo_count=algos)[1]\n",
    ")\n",
    "plt.plot(\n",
    "    algos,\n",
    "    portfolio_risk_decomposition(budget=0.4, correl=1.0, algo_count=algos)[1]\n",
    ")\n",
    "plt.ylim([0,1]);\n",
    "plt.title('Percent of Portfolio Risk due to Common Risk')\n",
    "plt.xlabel('Number of Algos in Portfolio')\n",
    "plt.ylabel('Percent of Portfolio of Algos Risk due to Common Risk')\n",
    "plt.legend(\n",
    "    ['20% Single Algo Common Risk Budget', '40% Single Algo Common Risk Budget']\n",
    ");"
   ]
  },
  {
   "attachments": {},
   "cell_type": "markdown",
   "metadata": {},
   "source": [
    "From this plot, you can see that from the allocator's perspective, a \"small\" budget that allows for 20% of individual algo total risk to be driven by common risk leads to a 20 algo portfolio **with 83%** of it's risk driven by common risk. Ideally an allocator wants you to have **zero common factor risk**."
   ]
  },
  {
   "cell_type": "markdown",
   "metadata": {
    "collapsed": true
   },
   "source": [
    "<div class=\"alert alert-warning\">\n",
    "<b>TL;DR:</b> Even if you can't predict portfolio risk and don't have a risk model to decompose risk, you can form a portfolio with **zero common risk** by hedging the beta exposure to common factors. The most important common factors in the US Equity market are market beta and sector beta. Hedge your beta and be sector neutral if you want a large allocation from any allocator.\n",
    "</div>"
   ]
  }
 ],
 "metadata": {
  "kernelspec": {
   "display_name": "Python 2",
   "language": "python",
   "name": "python2"
  },
  "language_info": {
   "codemirror_mode": {
    "name": "ipython",
    "version": 2
   },
   "file_extension": ".py",
   "mimetype": "text/x-python",
   "name": "python",
   "nbconvert_exporter": "python",
   "pygments_lexer": "ipython2",
   "version": "2.7.12"
  }
 },
 "nbformat": 4,
 "nbformat_minor": 2
}
